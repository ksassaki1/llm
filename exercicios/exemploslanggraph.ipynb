{
 "cells": [
  {
   "cell_type": "code",
   "execution_count": 1,
   "metadata": {},
   "outputs": [
    {
     "name": "stdout",
     "output_type": "stream",
     "text": [
      "/bin/bash: /home/koiti/anaconda3/lib/libtinfo.so.6: no version information available (required by /bin/bash)\n",
      "Collecting langgraph\n",
      "  Using cached langgraph-0.4.8-py3-none-any.whl.metadata (6.8 kB)\n",
      "Requirement already satisfied: langchain-core>=0.1 in /home/koiti/anaconda3/envs/llm/lib/python3.10/site-packages (from langgraph) (0.3.63)\n",
      "Collecting langgraph-checkpoint>=2.0.26 (from langgraph)\n",
      "  Downloading langgraph_checkpoint-2.1.0-py3-none-any.whl.metadata (4.2 kB)\n",
      "Collecting langgraph-prebuilt>=0.2.0 (from langgraph)\n",
      "  Using cached langgraph_prebuilt-0.2.2-py3-none-any.whl.metadata (4.5 kB)\n",
      "Collecting langgraph-sdk>=0.1.42 (from langgraph)\n",
      "  Using cached langgraph_sdk-0.1.70-py3-none-any.whl.metadata (1.5 kB)\n",
      "Requirement already satisfied: pydantic>=2.7.4 in /home/koiti/anaconda3/envs/llm/lib/python3.10/site-packages (from langgraph) (2.10.3)\n",
      "Collecting xxhash>=3.5.0 (from langgraph)\n",
      "  Downloading xxhash-3.5.0-cp310-cp310-manylinux_2_17_x86_64.manylinux2014_x86_64.whl.metadata (12 kB)\n",
      "Requirement already satisfied: langsmith<0.4,>=0.1.126 in /home/koiti/anaconda3/envs/llm/lib/python3.10/site-packages (from langchain-core>=0.1->langgraph) (0.3.45)\n",
      "Requirement already satisfied: tenacity!=8.4.0,<10.0.0,>=8.1.0 in /home/koiti/anaconda3/envs/llm/lib/python3.10/site-packages (from langchain-core>=0.1->langgraph) (9.0.0)\n",
      "Requirement already satisfied: jsonpatch<2.0,>=1.33 in /home/koiti/anaconda3/envs/llm/lib/python3.10/site-packages (from langchain-core>=0.1->langgraph) (1.33)\n",
      "Requirement already satisfied: PyYAML>=5.3 in /home/koiti/anaconda3/envs/llm/lib/python3.10/site-packages (from langchain-core>=0.1->langgraph) (6.0.2)\n",
      "Requirement already satisfied: packaging<25,>=23.2 in /home/koiti/anaconda3/envs/llm/lib/python3.10/site-packages (from langchain-core>=0.1->langgraph) (24.2)\n",
      "Requirement already satisfied: typing-extensions>=4.7 in /home/koiti/anaconda3/envs/llm/lib/python3.10/site-packages (from langchain-core>=0.1->langgraph) (4.14.0)\n",
      "Requirement already satisfied: jsonpointer>=1.9 in /home/koiti/anaconda3/envs/llm/lib/python3.10/site-packages (from jsonpatch<2.0,>=1.33->langchain-core>=0.1->langgraph) (2.1)\n",
      "Requirement already satisfied: httpx<1,>=0.23.0 in /home/koiti/anaconda3/envs/llm/lib/python3.10/site-packages (from langsmith<0.4,>=0.1.126->langchain-core>=0.1->langgraph) (0.28.1)\n",
      "Requirement already satisfied: orjson<4.0.0,>=3.9.14 in /home/koiti/anaconda3/envs/llm/lib/python3.10/site-packages (from langsmith<0.4,>=0.1.126->langchain-core>=0.1->langgraph) (3.10.14)\n",
      "Requirement already satisfied: requests<3,>=2 in /home/koiti/anaconda3/envs/llm/lib/python3.10/site-packages (from langsmith<0.4,>=0.1.126->langchain-core>=0.1->langgraph) (2.32.3)\n",
      "Requirement already satisfied: requests-toolbelt<2.0.0,>=1.0.0 in /home/koiti/anaconda3/envs/llm/lib/python3.10/site-packages (from langsmith<0.4,>=0.1.126->langchain-core>=0.1->langgraph) (1.0.0)\n",
      "Requirement already satisfied: zstandard<0.24.0,>=0.23.0 in /home/koiti/anaconda3/envs/llm/lib/python3.10/site-packages (from langsmith<0.4,>=0.1.126->langchain-core>=0.1->langgraph) (0.23.0)\n",
      "Requirement already satisfied: anyio in /home/koiti/anaconda3/envs/llm/lib/python3.10/site-packages (from httpx<1,>=0.23.0->langsmith<0.4,>=0.1.126->langchain-core>=0.1->langgraph) (4.7.0)\n",
      "Requirement already satisfied: certifi in /home/koiti/anaconda3/envs/llm/lib/python3.10/site-packages (from httpx<1,>=0.23.0->langsmith<0.4,>=0.1.126->langchain-core>=0.1->langgraph) (2025.4.26)\n",
      "Requirement already satisfied: httpcore==1.* in /home/koiti/anaconda3/envs/llm/lib/python3.10/site-packages (from httpx<1,>=0.23.0->langsmith<0.4,>=0.1.126->langchain-core>=0.1->langgraph) (1.0.9)\n",
      "Requirement already satisfied: idna in /home/koiti/anaconda3/envs/llm/lib/python3.10/site-packages (from httpx<1,>=0.23.0->langsmith<0.4,>=0.1.126->langchain-core>=0.1->langgraph) (3.7)\n",
      "Requirement already satisfied: h11>=0.16 in /home/koiti/anaconda3/envs/llm/lib/python3.10/site-packages (from httpcore==1.*->httpx<1,>=0.23.0->langsmith<0.4,>=0.1.126->langchain-core>=0.1->langgraph) (0.16.0)\n",
      "Requirement already satisfied: annotated-types>=0.6.0 in /home/koiti/anaconda3/envs/llm/lib/python3.10/site-packages (from pydantic>=2.7.4->langgraph) (0.6.0)\n",
      "Requirement already satisfied: pydantic-core==2.27.1 in /home/koiti/anaconda3/envs/llm/lib/python3.10/site-packages (from pydantic>=2.7.4->langgraph) (2.27.1)\n",
      "Requirement already satisfied: charset-normalizer<4,>=2 in /home/koiti/anaconda3/envs/llm/lib/python3.10/site-packages (from requests<3,>=2->langsmith<0.4,>=0.1.126->langchain-core>=0.1->langgraph) (3.3.2)\n",
      "Requirement already satisfied: urllib3<3,>=1.21.1 in /home/koiti/anaconda3/envs/llm/lib/python3.10/site-packages (from requests<3,>=2->langsmith<0.4,>=0.1.126->langchain-core>=0.1->langgraph) (2.3.0)\n",
      "Collecting ormsgpack>=1.10.0 (from langgraph-checkpoint>=2.0.26->langgraph)\n",
      "  Using cached ormsgpack-1.10.0-cp310-cp310-manylinux_2_17_x86_64.manylinux2014_x86_64.whl.metadata (43 kB)\n",
      "Requirement already satisfied: exceptiongroup>=1.0.2 in /home/koiti/anaconda3/envs/llm/lib/python3.10/site-packages (from anyio->httpx<1,>=0.23.0->langsmith<0.4,>=0.1.126->langchain-core>=0.1->langgraph) (1.3.0)\n",
      "Requirement already satisfied: sniffio>=1.1 in /home/koiti/anaconda3/envs/llm/lib/python3.10/site-packages (from anyio->httpx<1,>=0.23.0->langsmith<0.4,>=0.1.126->langchain-core>=0.1->langgraph) (1.3.0)\n",
      "Using cached langgraph-0.4.8-py3-none-any.whl (152 kB)\n",
      "Downloading langgraph_checkpoint-2.1.0-py3-none-any.whl (43 kB)\n",
      "Using cached langgraph_prebuilt-0.2.2-py3-none-any.whl (23 kB)\n",
      "Using cached langgraph_sdk-0.1.70-py3-none-any.whl (49 kB)\n",
      "Using cached ormsgpack-1.10.0-cp310-cp310-manylinux_2_17_x86_64.manylinux2014_x86_64.whl (216 kB)\n",
      "Downloading xxhash-3.5.0-cp310-cp310-manylinux_2_17_x86_64.manylinux2014_x86_64.whl (194 kB)\n",
      "Installing collected packages: xxhash, ormsgpack, langgraph-sdk, langgraph-checkpoint, langgraph-prebuilt, langgraph\n",
      "\u001b[2K   \u001b[90m━━━━━━━━━━━━━━━━━━━━━━━━━━━━━━━━━━━━━━━━\u001b[0m \u001b[32m6/6\u001b[0m [langgraph]\n",
      "\u001b[1A\u001b[2KSuccessfully installed langgraph-0.4.8 langgraph-checkpoint-2.1.0 langgraph-prebuilt-0.2.2 langgraph-sdk-0.1.70 ormsgpack-1.10.0 xxhash-3.5.0\n",
      "/bin/bash: /home/koiti/anaconda3/lib/libtinfo.so.6: no version information available (required by /bin/bash)\n",
      "Requirement already satisfied: langchain-openai in /home/koiti/anaconda3/envs/llm/lib/python3.10/site-packages (0.3.16)\n",
      "Collecting langchain-openai\n",
      "  Downloading langchain_openai-0.3.24-py3-none-any.whl.metadata (2.3 kB)\n",
      "Collecting langchain-core<1.0.0,>=0.3.65 (from langchain-openai)\n",
      "  Using cached langchain_core-0.3.65-py3-none-any.whl.metadata (5.8 kB)\n",
      "Collecting openai<2.0.0,>=1.86.0 (from langchain-openai)\n",
      "  Downloading openai-1.88.0-py3-none-any.whl.metadata (25 kB)\n",
      "Requirement already satisfied: tiktoken<1,>=0.7 in /home/koiti/anaconda3/envs/llm/lib/python3.10/site-packages (from langchain-openai) (0.9.0)\n",
      "Requirement already satisfied: langsmith<0.4,>=0.3.45 in /home/koiti/anaconda3/envs/llm/lib/python3.10/site-packages (from langchain-core<1.0.0,>=0.3.65->langchain-openai) (0.3.45)\n",
      "Requirement already satisfied: tenacity!=8.4.0,<10.0.0,>=8.1.0 in /home/koiti/anaconda3/envs/llm/lib/python3.10/site-packages (from langchain-core<1.0.0,>=0.3.65->langchain-openai) (9.0.0)\n",
      "Requirement already satisfied: jsonpatch<2.0,>=1.33 in /home/koiti/anaconda3/envs/llm/lib/python3.10/site-packages (from langchain-core<1.0.0,>=0.3.65->langchain-openai) (1.33)\n",
      "Requirement already satisfied: PyYAML>=5.3 in /home/koiti/anaconda3/envs/llm/lib/python3.10/site-packages (from langchain-core<1.0.0,>=0.3.65->langchain-openai) (6.0.2)\n",
      "Requirement already satisfied: packaging<25,>=23.2 in /home/koiti/anaconda3/envs/llm/lib/python3.10/site-packages (from langchain-core<1.0.0,>=0.3.65->langchain-openai) (24.2)\n",
      "Requirement already satisfied: typing-extensions>=4.7 in /home/koiti/anaconda3/envs/llm/lib/python3.10/site-packages (from langchain-core<1.0.0,>=0.3.65->langchain-openai) (4.14.0)\n",
      "Requirement already satisfied: pydantic>=2.7.4 in /home/koiti/anaconda3/envs/llm/lib/python3.10/site-packages (from langchain-core<1.0.0,>=0.3.65->langchain-openai) (2.10.3)\n",
      "Requirement already satisfied: jsonpointer>=1.9 in /home/koiti/anaconda3/envs/llm/lib/python3.10/site-packages (from jsonpatch<2.0,>=1.33->langchain-core<1.0.0,>=0.3.65->langchain-openai) (2.1)\n",
      "Requirement already satisfied: httpx<1,>=0.23.0 in /home/koiti/anaconda3/envs/llm/lib/python3.10/site-packages (from langsmith<0.4,>=0.3.45->langchain-core<1.0.0,>=0.3.65->langchain-openai) (0.28.1)\n",
      "Requirement already satisfied: orjson<4.0.0,>=3.9.14 in /home/koiti/anaconda3/envs/llm/lib/python3.10/site-packages (from langsmith<0.4,>=0.3.45->langchain-core<1.0.0,>=0.3.65->langchain-openai) (3.10.14)\n",
      "Requirement already satisfied: requests<3,>=2 in /home/koiti/anaconda3/envs/llm/lib/python3.10/site-packages (from langsmith<0.4,>=0.3.45->langchain-core<1.0.0,>=0.3.65->langchain-openai) (2.32.3)\n",
      "Requirement already satisfied: requests-toolbelt<2.0.0,>=1.0.0 in /home/koiti/anaconda3/envs/llm/lib/python3.10/site-packages (from langsmith<0.4,>=0.3.45->langchain-core<1.0.0,>=0.3.65->langchain-openai) (1.0.0)\n",
      "Requirement already satisfied: zstandard<0.24.0,>=0.23.0 in /home/koiti/anaconda3/envs/llm/lib/python3.10/site-packages (from langsmith<0.4,>=0.3.45->langchain-core<1.0.0,>=0.3.65->langchain-openai) (0.23.0)\n",
      "Requirement already satisfied: anyio in /home/koiti/anaconda3/envs/llm/lib/python3.10/site-packages (from httpx<1,>=0.23.0->langsmith<0.4,>=0.3.45->langchain-core<1.0.0,>=0.3.65->langchain-openai) (4.7.0)\n",
      "Requirement already satisfied: certifi in /home/koiti/anaconda3/envs/llm/lib/python3.10/site-packages (from httpx<1,>=0.23.0->langsmith<0.4,>=0.3.45->langchain-core<1.0.0,>=0.3.65->langchain-openai) (2025.4.26)\n",
      "Requirement already satisfied: httpcore==1.* in /home/koiti/anaconda3/envs/llm/lib/python3.10/site-packages (from httpx<1,>=0.23.0->langsmith<0.4,>=0.3.45->langchain-core<1.0.0,>=0.3.65->langchain-openai) (1.0.9)\n",
      "Requirement already satisfied: idna in /home/koiti/anaconda3/envs/llm/lib/python3.10/site-packages (from httpx<1,>=0.23.0->langsmith<0.4,>=0.3.45->langchain-core<1.0.0,>=0.3.65->langchain-openai) (3.7)\n",
      "Requirement already satisfied: h11>=0.16 in /home/koiti/anaconda3/envs/llm/lib/python3.10/site-packages (from httpcore==1.*->httpx<1,>=0.23.0->langsmith<0.4,>=0.3.45->langchain-core<1.0.0,>=0.3.65->langchain-openai) (0.16.0)\n",
      "Requirement already satisfied: distro<2,>=1.7.0 in /home/koiti/anaconda3/envs/llm/lib/python3.10/site-packages (from openai<2.0.0,>=1.86.0->langchain-openai) (1.9.0)\n",
      "Requirement already satisfied: jiter<1,>=0.4.0 in /home/koiti/anaconda3/envs/llm/lib/python3.10/site-packages (from openai<2.0.0,>=1.86.0->langchain-openai) (0.6.1)\n",
      "Requirement already satisfied: sniffio in /home/koiti/anaconda3/envs/llm/lib/python3.10/site-packages (from openai<2.0.0,>=1.86.0->langchain-openai) (1.3.0)\n",
      "Requirement already satisfied: tqdm>4 in /home/koiti/anaconda3/envs/llm/lib/python3.10/site-packages (from openai<2.0.0,>=1.86.0->langchain-openai) (4.67.1)\n",
      "Requirement already satisfied: exceptiongroup>=1.0.2 in /home/koiti/anaconda3/envs/llm/lib/python3.10/site-packages (from anyio->httpx<1,>=0.23.0->langsmith<0.4,>=0.3.45->langchain-core<1.0.0,>=0.3.65->langchain-openai) (1.3.0)\n",
      "Requirement already satisfied: annotated-types>=0.6.0 in /home/koiti/anaconda3/envs/llm/lib/python3.10/site-packages (from pydantic>=2.7.4->langchain-core<1.0.0,>=0.3.65->langchain-openai) (0.6.0)\n",
      "Requirement already satisfied: pydantic-core==2.27.1 in /home/koiti/anaconda3/envs/llm/lib/python3.10/site-packages (from pydantic>=2.7.4->langchain-core<1.0.0,>=0.3.65->langchain-openai) (2.27.1)\n",
      "Requirement already satisfied: charset-normalizer<4,>=2 in /home/koiti/anaconda3/envs/llm/lib/python3.10/site-packages (from requests<3,>=2->langsmith<0.4,>=0.3.45->langchain-core<1.0.0,>=0.3.65->langchain-openai) (3.3.2)\n",
      "Requirement already satisfied: urllib3<3,>=1.21.1 in /home/koiti/anaconda3/envs/llm/lib/python3.10/site-packages (from requests<3,>=2->langsmith<0.4,>=0.3.45->langchain-core<1.0.0,>=0.3.65->langchain-openai) (2.3.0)\n",
      "Requirement already satisfied: regex>=2022.1.18 in /home/koiti/anaconda3/envs/llm/lib/python3.10/site-packages (from tiktoken<1,>=0.7->langchain-openai) (2024.11.6)\n",
      "Downloading langchain_openai-0.3.24-py3-none-any.whl (68 kB)\n",
      "Using cached langchain_core-0.3.65-py3-none-any.whl (438 kB)\n",
      "Downloading openai-1.88.0-py3-none-any.whl (734 kB)\n",
      "\u001b[2K   \u001b[90m━━━━━━━━━━━━━━━━━━━━━━━━━━━━━━━━━━━━━━━━\u001b[0m \u001b[32m734.3/734.3 kB\u001b[0m \u001b[31m2.2 MB/s\u001b[0m eta \u001b[36m0:00:00\u001b[0ma \u001b[36m0:00:01\u001b[0m\n",
      "\u001b[?25hInstalling collected packages: openai, langchain-core, langchain-openai\n",
      "\u001b[2K  Attempting uninstall: openai\n",
      "\u001b[2K    Found existing installation: openai 1.84.0\n",
      "\u001b[2K    Uninstalling openai-1.84.0:\n",
      "\u001b[2K      Successfully uninstalled openai-1.84.0\n",
      "\u001b[2K  Attempting uninstall: langchain-core━━━━━━━━━━\u001b[0m \u001b[32m0/3\u001b[0m [openai]\n",
      "\u001b[2K    Found existing installation: langchain-core 0.3.630/3\u001b[0m [openai]\n",
      "\u001b[2K    Uninstalling langchain-core-0.3.63:━━━━━\u001b[0m \u001b[32m0/3\u001b[0m [openai]\n",
      "\u001b[2K      Successfully uninstalled langchain-core-0.3.632m0/3\u001b[0m [openai]\n",
      "\u001b[2K  Attempting uninstall: langchain-openai━━━━━━━━━━━━━━━━━━━━━━━━━━\u001b[0m \u001b[32m1/3\u001b[0m [langchain-core]\n",
      "\u001b[2K    Found existing installation: langchain-openai 0.3.16━━━━━━\u001b[0m \u001b[32m1/3\u001b[0m [langchain-core]\n",
      "\u001b[2K    Uninstalling langchain-openai-0.3.16:━━━━━━━━━━━━━━━━━━━━━\u001b[0m \u001b[32m1/3\u001b[0m [langchain-core]\n",
      "\u001b[2K      Successfully uninstalled langchain-openai-0.3.16━━━━━━━━\u001b[0m \u001b[32m1/3\u001b[0m [langchain-core]\n",
      "\u001b[2K   \u001b[90m━━━━━━━━━━━━━━━━━━━━━━━━━━━━━━━━━━━━━━━━\u001b[0m \u001b[32m3/3\u001b[0m [langchain-openai]gchain-core]\n",
      "\u001b[1A\u001b[2K\u001b[31mERROR: pip's dependency resolver does not currently take into account all the packages that are installed. This behaviour is the source of the following dependency conflicts.\n",
      "langchain-community 0.3.12 requires langsmith<0.3,>=0.1.125, but you have langsmith 0.3.45 which is incompatible.\u001b[0m\u001b[31m\n",
      "\u001b[0mSuccessfully installed langchain-core-0.3.65 langchain-openai-0.3.24 openai-1.88.0\n",
      "/bin/bash: /home/koiti/anaconda3/lib/libtinfo.so.6: no version information available (required by /bin/bash)\n",
      "Collecting langchain-anthropic\n",
      "  Using cached langchain_anthropic-0.3.15-py3-none-any.whl.metadata (1.9 kB)\n",
      "Requirement already satisfied: langchain-core in /home/koiti/anaconda3/envs/llm/lib/python3.10/site-packages (0.3.65)\n",
      "Requirement already satisfied: langchain-community in /home/koiti/anaconda3/envs/llm/lib/python3.10/site-packages (0.3.12)\n",
      "Collecting langchain-community\n",
      "  Using cached langchain_community-0.3.25-py3-none-any.whl.metadata (2.9 kB)\n",
      "Collecting anthropic<1,>=0.52.0 (from langchain-anthropic)\n",
      "  Using cached anthropic-0.54.0-py3-none-any.whl.metadata (25 kB)\n",
      "Requirement already satisfied: pydantic<3.0.0,>=2.7.4 in /home/koiti/anaconda3/envs/llm/lib/python3.10/site-packages (from langchain-anthropic) (2.10.3)\n",
      "Requirement already satisfied: langsmith<0.4,>=0.3.45 in /home/koiti/anaconda3/envs/llm/lib/python3.10/site-packages (from langchain-core) (0.3.45)\n",
      "Requirement already satisfied: tenacity!=8.4.0,<10.0.0,>=8.1.0 in /home/koiti/anaconda3/envs/llm/lib/python3.10/site-packages (from langchain-core) (9.0.0)\n",
      "Requirement already satisfied: jsonpatch<2.0,>=1.33 in /home/koiti/anaconda3/envs/llm/lib/python3.10/site-packages (from langchain-core) (1.33)\n",
      "Requirement already satisfied: PyYAML>=5.3 in /home/koiti/anaconda3/envs/llm/lib/python3.10/site-packages (from langchain-core) (6.0.2)\n",
      "Requirement already satisfied: packaging<25,>=23.2 in /home/koiti/anaconda3/envs/llm/lib/python3.10/site-packages (from langchain-core) (24.2)\n",
      "Requirement already satisfied: typing-extensions>=4.7 in /home/koiti/anaconda3/envs/llm/lib/python3.10/site-packages (from langchain-core) (4.14.0)\n",
      "Requirement already satisfied: anyio<5,>=3.5.0 in /home/koiti/anaconda3/envs/llm/lib/python3.10/site-packages (from anthropic<1,>=0.52.0->langchain-anthropic) (4.7.0)\n",
      "Requirement already satisfied: distro<2,>=1.7.0 in /home/koiti/anaconda3/envs/llm/lib/python3.10/site-packages (from anthropic<1,>=0.52.0->langchain-anthropic) (1.9.0)\n",
      "Requirement already satisfied: httpx<1,>=0.25.0 in /home/koiti/anaconda3/envs/llm/lib/python3.10/site-packages (from anthropic<1,>=0.52.0->langchain-anthropic) (0.28.1)\n",
      "Requirement already satisfied: jiter<1,>=0.4.0 in /home/koiti/anaconda3/envs/llm/lib/python3.10/site-packages (from anthropic<1,>=0.52.0->langchain-anthropic) (0.6.1)\n",
      "Requirement already satisfied: sniffio in /home/koiti/anaconda3/envs/llm/lib/python3.10/site-packages (from anthropic<1,>=0.52.0->langchain-anthropic) (1.3.0)\n",
      "Requirement already satisfied: exceptiongroup>=1.0.2 in /home/koiti/anaconda3/envs/llm/lib/python3.10/site-packages (from anyio<5,>=3.5.0->anthropic<1,>=0.52.0->langchain-anthropic) (1.3.0)\n",
      "Requirement already satisfied: idna>=2.8 in /home/koiti/anaconda3/envs/llm/lib/python3.10/site-packages (from anyio<5,>=3.5.0->anthropic<1,>=0.52.0->langchain-anthropic) (3.7)\n",
      "Requirement already satisfied: certifi in /home/koiti/anaconda3/envs/llm/lib/python3.10/site-packages (from httpx<1,>=0.25.0->anthropic<1,>=0.52.0->langchain-anthropic) (2025.4.26)\n",
      "Requirement already satisfied: httpcore==1.* in /home/koiti/anaconda3/envs/llm/lib/python3.10/site-packages (from httpx<1,>=0.25.0->anthropic<1,>=0.52.0->langchain-anthropic) (1.0.9)\n",
      "Requirement already satisfied: h11>=0.16 in /home/koiti/anaconda3/envs/llm/lib/python3.10/site-packages (from httpcore==1.*->httpx<1,>=0.25.0->anthropic<1,>=0.52.0->langchain-anthropic) (0.16.0)\n",
      "Requirement already satisfied: jsonpointer>=1.9 in /home/koiti/anaconda3/envs/llm/lib/python3.10/site-packages (from jsonpatch<2.0,>=1.33->langchain-core) (2.1)\n",
      "Requirement already satisfied: orjson<4.0.0,>=3.9.14 in /home/koiti/anaconda3/envs/llm/lib/python3.10/site-packages (from langsmith<0.4,>=0.3.45->langchain-core) (3.10.14)\n",
      "Requirement already satisfied: requests<3,>=2 in /home/koiti/anaconda3/envs/llm/lib/python3.10/site-packages (from langsmith<0.4,>=0.3.45->langchain-core) (2.32.3)\n",
      "Requirement already satisfied: requests-toolbelt<2.0.0,>=1.0.0 in /home/koiti/anaconda3/envs/llm/lib/python3.10/site-packages (from langsmith<0.4,>=0.3.45->langchain-core) (1.0.0)\n",
      "Requirement already satisfied: zstandard<0.24.0,>=0.23.0 in /home/koiti/anaconda3/envs/llm/lib/python3.10/site-packages (from langsmith<0.4,>=0.3.45->langchain-core) (0.23.0)\n",
      "Requirement already satisfied: annotated-types>=0.6.0 in /home/koiti/anaconda3/envs/llm/lib/python3.10/site-packages (from pydantic<3.0.0,>=2.7.4->langchain-anthropic) (0.6.0)\n",
      "Requirement already satisfied: pydantic-core==2.27.1 in /home/koiti/anaconda3/envs/llm/lib/python3.10/site-packages (from pydantic<3.0.0,>=2.7.4->langchain-anthropic) (2.27.1)\n",
      "Requirement already satisfied: charset-normalizer<4,>=2 in /home/koiti/anaconda3/envs/llm/lib/python3.10/site-packages (from requests<3,>=2->langsmith<0.4,>=0.3.45->langchain-core) (3.3.2)\n",
      "Requirement already satisfied: urllib3<3,>=1.21.1 in /home/koiti/anaconda3/envs/llm/lib/python3.10/site-packages (from requests<3,>=2->langsmith<0.4,>=0.3.45->langchain-core) (2.3.0)\n",
      "Requirement already satisfied: langchain<1.0.0,>=0.3.25 in /home/koiti/anaconda3/envs/llm/lib/python3.10/site-packages (from langchain-community) (0.3.25)\n",
      "Requirement already satisfied: SQLAlchemy<3,>=1.4 in /home/koiti/anaconda3/envs/llm/lib/python3.10/site-packages (from langchain-community) (2.0.39)\n",
      "Requirement already satisfied: aiohttp<4.0.0,>=3.8.3 in /home/koiti/anaconda3/envs/llm/lib/python3.10/site-packages (from langchain-community) (3.11.10)\n",
      "Requirement already satisfied: dataclasses-json<0.7,>=0.5.7 in /home/koiti/anaconda3/envs/llm/lib/python3.10/site-packages (from langchain-community) (0.6.7)\n",
      "Requirement already satisfied: pydantic-settings<3.0.0,>=2.4.0 in /home/koiti/anaconda3/envs/llm/lib/python3.10/site-packages (from langchain-community) (2.9.1)\n",
      "Requirement already satisfied: httpx-sse<1.0.0,>=0.4.0 in /home/koiti/anaconda3/envs/llm/lib/python3.10/site-packages (from langchain-community) (0.4.0)\n",
      "Requirement already satisfied: numpy>=1.26.2 in /home/koiti/anaconda3/envs/llm/lib/python3.10/site-packages (from langchain-community) (1.26.4)\n",
      "Requirement already satisfied: aiohappyeyeballs>=2.3.0 in /home/koiti/anaconda3/envs/llm/lib/python3.10/site-packages (from aiohttp<4.0.0,>=3.8.3->langchain-community) (2.6.1)\n",
      "Requirement already satisfied: aiosignal>=1.1.2 in /home/koiti/anaconda3/envs/llm/lib/python3.10/site-packages (from aiohttp<4.0.0,>=3.8.3->langchain-community) (1.3.2)\n",
      "Requirement already satisfied: attrs>=17.3.0 in /home/koiti/anaconda3/envs/llm/lib/python3.10/site-packages (from aiohttp<4.0.0,>=3.8.3->langchain-community) (25.3.0)\n",
      "Requirement already satisfied: frozenlist>=1.1.1 in /home/koiti/anaconda3/envs/llm/lib/python3.10/site-packages (from aiohttp<4.0.0,>=3.8.3->langchain-community) (1.5.0)\n",
      "Requirement already satisfied: multidict<7.0,>=4.5 in /home/koiti/anaconda3/envs/llm/lib/python3.10/site-packages (from aiohttp<4.0.0,>=3.8.3->langchain-community) (6.1.0)\n",
      "Requirement already satisfied: propcache>=0.2.0 in /home/koiti/anaconda3/envs/llm/lib/python3.10/site-packages (from aiohttp<4.0.0,>=3.8.3->langchain-community) (0.3.1)\n",
      "Requirement already satisfied: yarl<2.0,>=1.17.0 in /home/koiti/anaconda3/envs/llm/lib/python3.10/site-packages (from aiohttp<4.0.0,>=3.8.3->langchain-community) (1.18.0)\n",
      "Requirement already satisfied: async-timeout<6.0,>=4.0 in /home/koiti/anaconda3/envs/llm/lib/python3.10/site-packages (from aiohttp<4.0.0,>=3.8.3->langchain-community) (4.0.3)\n",
      "Requirement already satisfied: marshmallow<4.0.0,>=3.18.0 in /home/koiti/anaconda3/envs/llm/lib/python3.10/site-packages (from dataclasses-json<0.7,>=0.5.7->langchain-community) (3.26.1)\n",
      "Requirement already satisfied: typing-inspect<1,>=0.4.0 in /home/koiti/anaconda3/envs/llm/lib/python3.10/site-packages (from dataclasses-json<0.7,>=0.5.7->langchain-community) (0.9.0)\n",
      "Requirement already satisfied: langchain-text-splitters<1.0.0,>=0.3.8 in /home/koiti/anaconda3/envs/llm/lib/python3.10/site-packages (from langchain<1.0.0,>=0.3.25->langchain-community) (0.3.8)\n",
      "Requirement already satisfied: python-dotenv>=0.21.0 in /home/koiti/anaconda3/envs/llm/lib/python3.10/site-packages (from pydantic-settings<3.0.0,>=2.4.0->langchain-community) (1.1.0)\n",
      "Requirement already satisfied: typing-inspection>=0.4.0 in /home/koiti/anaconda3/envs/llm/lib/python3.10/site-packages (from pydantic-settings<3.0.0,>=2.4.0->langchain-community) (0.4.1)\n",
      "Requirement already satisfied: greenlet!=0.4.17 in /home/koiti/anaconda3/envs/llm/lib/python3.10/site-packages (from SQLAlchemy<3,>=1.4->langchain-community) (3.1.1)\n",
      "Requirement already satisfied: mypy_extensions>=0.3.0 in /home/koiti/anaconda3/envs/llm/lib/python3.10/site-packages (from typing-inspect<1,>=0.4.0->dataclasses-json<0.7,>=0.5.7->langchain-community) (1.1.0)\n",
      "Using cached langchain_anthropic-0.3.15-py3-none-any.whl (28 kB)\n",
      "Using cached anthropic-0.54.0-py3-none-any.whl (288 kB)\n",
      "Using cached langchain_community-0.3.25-py3-none-any.whl (2.5 MB)\n",
      "Installing collected packages: anthropic, langchain-anthropic, langchain-community\n",
      "\u001b[2K  Attempting uninstall: langchain-community\n",
      "\u001b[2K    Found existing installation: langchain-community 0.3.12\n",
      "\u001b[2K    Uninstalling langchain-community-0.3.12:\n",
      "\u001b[2K      Successfully uninstalled langchain-community-0.3.12\n",
      "\u001b[2K   \u001b[90m━━━━━━━━━━━━━━━━━━━━━━━━━━━━━━━━━━━━━━━━\u001b[0m \u001b[32m3/3\u001b[0m [langchain-community]ngchain-community]\n",
      "\u001b[1A\u001b[2KSuccessfully installed anthropic-0.54.0 langchain-anthropic-0.3.15 langchain-community-0.3.25\n"
     ]
    }
   ],
   "source": [
    "!pip install -U langgraph\n",
    "!pip install --upgrade langchain-openai\n",
    "!pip install --upgrade langchain-anthropic langchain-core langchain-community"
   ]
  },
  {
   "cell_type": "markdown",
   "metadata": {},
   "source": [
    "Etapa 1: Definir o StateGraph\n",
    "\n",
    "Defina um objeto StateGraph para estruturar o chatbot como uma máquina de estado. O State é um objeto de classe definido com uma única chave messages do tipo List e usa a função add_messages() para anexar novas mensagens em vez de sobrescrevê-las."
   ]
  },
  {
   "cell_type": "code",
   "execution_count": 2,
   "metadata": {},
   "outputs": [],
   "source": [
    "from typing import Annotated\n",
    "from typing_extensions import TypedDict\n",
    "from langgraph.graph import StateGraph\n",
    "from langgraph.graph.message import add_messages\n",
    "class State(TypedDict):\n",
    "    # messages have the type \"list\".\n",
    "    # The add_messages function appends messages to the list, rather than overwriting them\n",
    "    messages: Annotated[list, add_messages]\n",
    "graph_builder = StateGraph(State)"
   ]
  },
  {
   "cell_type": "markdown",
   "metadata": {},
   "source": [
    "Etapa 2: Inicialize um LLM e adicione-o como um nó do Chatbot\n",
    "\n",
    "Aqui, inicializamos o modelo AzureChatOpenAI e criamos uma função simples de chatbot que recebe as mensagens de estado como entrada e gera uma resposta de mensagem (que é posteriormente anexada ao estado).\n",
    "\n",
    "Essa função de chatbot é adicionada ao gráfico como um nó chamado \"chatbot\"."
   ]
  },
  {
   "cell_type": "code",
   "execution_count": 5,
   "metadata": {},
   "outputs": [],
   "source": [
    "from typing import TypedDict, Annotated\n",
    "from typing_extensions import TypedDict       # se estiver usando Python<3.12\n",
    "from langgraph.graph.message import add_messages\n",
    "from langchain_core.messages import BaseMessage\n",
    "from langgraph.graph import StateGraph, START\n",
    "\n",
    "class ChatState(TypedDict):\n",
    "    messages: Annotated[list[BaseMessage], add_messages]\n",
    "    # exemplo de campo adicional\n",
    "    topic: str\n",
    "\n",
    "workflow = StateGraph(state_schema=ChatState)\n",
    "\n",
    "def chatbot(state: ChatState):\n",
    "    response = llm.invoke(state[\"messages\"])\n",
    "    return {\n",
    "        \"messages\": [response],\n",
    "        # podemos alterar outros campos se quiser\n",
    "    }\n",
    "\n",
    "workflow.add_node(\"chatbot\", chatbot)\n",
    "workflow.add_edge(START, \"chatbot\")\n",
    "app = workflow.compile()\n"
   ]
  },
  {
   "cell_type": "markdown",
   "metadata": {},
   "source": [
    "Se você precisa de campos extras além de messages, defina um TypedDict e use o utilitário add_messages para que o LangGraph saiba mesclar listas de mensagens:"
   ]
  },
  {
   "cell_type": "code",
   "execution_count": 6,
   "metadata": {},
   "outputs": [
    {
     "name": "stdout",
     "output_type": "stream",
     "text": [
      "A Declaração Universal dos Direitos Humanos foi escrita por uma comissão liderada por Eleanor Roosevelt e adotada pela Assembleia Geral das Nações Unidas em 1948.\n"
     ]
    }
   ],
   "source": [
    "from dotenv import load_dotenv\n",
    "from langchain_openai import ChatOpenAI\n",
    "from langgraph.graph import StateGraph, MessagesState, START\n",
    "from langchain_core.messages import HumanMessage\n",
    "\n",
    "load_dotenv()   # lê OPENAI_API_KEY\n",
    "\n",
    "llm = ChatOpenAI(model_name=\"gpt-3.5-turbo\", temperature=0.7)\n",
    "\n",
    "# ── grafo mínimo ─────────────────────────────────────────────\n",
    "workflow = StateGraph(state_schema=MessagesState)\n",
    "\n",
    "def call_model(state: MessagesState):\n",
    "    response = llm.invoke(state[\"messages\"])\n",
    "    # devolve atualização de estado ⟶ adiciona a resposta na lista\n",
    "    return {\"messages\": [response]}\n",
    "\n",
    "workflow.add_node(\"chatbot\", call_model)\n",
    "workflow.add_edge(START, \"chatbot\")        # 1º passo\n",
    "app = workflow.compile()                   # usa checkpointer in-memory por padrão\n",
    "\n",
    "# invocação de teste\n",
    "out = app.invoke({\"messages\": [HumanMessage(\"Quem escreveu a UDHR?\")]},\n",
    "                 config={\"configurable\": {\"thread_id\": \"thread-1\"}})\n",
    "\n",
    "print(out[\"messages\"][-1].content)"
   ]
  },
  {
   "cell_type": "markdown",
   "metadata": {},
   "source": [
    "Etapa 3: Definir bordas\n",
    "\n",
    "Como estamos criando um chatbot simples, definimos o nó chatbot como os pontos de entrada e de saída do gráfico para indicar onde iniciar e terminar o processo."
   ]
  },
  {
   "cell_type": "code",
   "execution_count": 26,
   "metadata": {},
   "outputs": [
    {
     "data": {
      "text/plain": [
       "<langgraph.graph.state.StateGraph at 0x77ade0b4d370>"
      ]
     },
     "execution_count": 26,
     "metadata": {},
     "output_type": "execute_result"
    }
   ],
   "source": [
    "# Set entry and finish points\n",
    "graph_builder.set_entry_point(\"chatbot\")\n",
    "graph_builder.set_finish_point(\"chatbot\")"
   ]
  },
  {
   "cell_type": "markdown",
   "metadata": {},
   "source": [
    "Etapa 4: Compilar e visualizar o gráfico\n",
    "\n",
    "Compile o gráfico para criar um CompiledGraph e, opcionalmente, podemos visualizar a estrutura do gráfico usando o código abaixo:"
   ]
  },
  {
   "cell_type": "code",
   "execution_count": 27,
   "metadata": {},
   "outputs": [
    {
     "data": {
      "image/png": "[encoded data removed]",
      "text/plain": [
       "<IPython.core.display.Image object>"
      ]
     },
     "metadata": {},
     "output_type": "display_data"
    }
   ],
   "source": [
    "graph = graph_builder.compile()\n",
    "from IPython.display import Image, display\n",
    "try:\n",
    "    display(Image(graph.get_graph().draw_mermaid_png()))\n",
    "except Exception:\n",
    "    pass"
   ]
  },
  {
   "cell_type": "markdown",
   "metadata": {},
   "source": [
    "Etapa 5: Execute o chatbot\n",
    "\n",
    "Por fim, implementamos um loop para solicitar continuamente a entrada do usuário, processá-la por meio do gráfico e imprimir a resposta do assistente. O loop é encerrado quando o usuário digita \"quit\", \"exit\", ou \"q\"."
   ]
  },
  {
   "cell_type": "code",
   "execution_count": 28,
   "metadata": {},
   "outputs": [
    {
     "name": "stdout",
     "output_type": "stream",
     "text": [
      "Assistant: Hello! How can I assist you today?\n",
      "Assistant: Hello! How can I assist you today?\n",
      "Assistant: A capital da França é Paris.\n",
      "Assistant: Olá! Como posso ajudar você hoje?\n",
      "Assistant: Hello! How can I assist you today?\n",
      "Assistant: Hello! How can I assist you today?\n",
      "Assistant: Hello! How can I assist you today?\n"
     ]
    },
    {
     "ename": "KeyboardInterrupt",
     "evalue": "Interrupted by user",
     "output_type": "error",
     "traceback": [
      "\u001b[31m---------------------------------------------------------------------------\u001b[39m",
      "\u001b[31mKeyboardInterrupt\u001b[39m                         Traceback (most recent call last)",
      "\u001b[36mCell\u001b[39m\u001b[36m \u001b[39m\u001b[32mIn[28]\u001b[39m\u001b[32m, line 3\u001b[39m\n\u001b[32m      1\u001b[39m \u001b[38;5;66;03m# Run the chatbot\u001b[39;00m\n\u001b[32m      2\u001b[39m \u001b[38;5;28;01mwhile\u001b[39;00m \u001b[38;5;28;01mTrue\u001b[39;00m:\n\u001b[32m----> \u001b[39m\u001b[32m3\u001b[39m     user_input = \u001b[38;5;28;43minput\u001b[39;49m\u001b[43m(\u001b[49m\u001b[33;43m\"\u001b[39;49m\u001b[33;43mUser: \u001b[39;49m\u001b[33;43m\"\u001b[39;49m\u001b[43m)\u001b[49m\n\u001b[32m      4\u001b[39m     \u001b[38;5;28;01mif\u001b[39;00m user_input.lower() \u001b[38;5;129;01min\u001b[39;00m [\u001b[33m\"\u001b[39m\u001b[33mquit\u001b[39m\u001b[33m\"\u001b[39m, \u001b[33m\"\u001b[39m\u001b[33mexit\u001b[39m\u001b[33m\"\u001b[39m, \u001b[33m\"\u001b[39m\u001b[33mq\u001b[39m\u001b[33m\"\u001b[39m]:\n\u001b[32m      5\u001b[39m         \u001b[38;5;28mprint\u001b[39m(\u001b[33m\"\u001b[39m\u001b[33mGoodbye!\u001b[39m\u001b[33m\"\u001b[39m)\n",
      "\u001b[36mFile \u001b[39m\u001b[32m~/anaconda3/envs/llm/lib/python3.13/site-packages/ipykernel/kernelbase.py:1282\u001b[39m, in \u001b[36mKernel.raw_input\u001b[39m\u001b[34m(self, prompt)\u001b[39m\n\u001b[32m   1280\u001b[39m     msg = \u001b[33m\"\u001b[39m\u001b[33mraw_input was called, but this frontend does not support input requests.\u001b[39m\u001b[33m\"\u001b[39m\n\u001b[32m   1281\u001b[39m     \u001b[38;5;28;01mraise\u001b[39;00m StdinNotImplementedError(msg)\n\u001b[32m-> \u001b[39m\u001b[32m1282\u001b[39m \u001b[38;5;28;01mreturn\u001b[39;00m \u001b[38;5;28;43mself\u001b[39;49m\u001b[43m.\u001b[49m\u001b[43m_input_request\u001b[49m\u001b[43m(\u001b[49m\n\u001b[32m   1283\u001b[39m \u001b[43m    \u001b[49m\u001b[38;5;28;43mstr\u001b[39;49m\u001b[43m(\u001b[49m\u001b[43mprompt\u001b[49m\u001b[43m)\u001b[49m\u001b[43m,\u001b[49m\n\u001b[32m   1284\u001b[39m \u001b[43m    \u001b[49m\u001b[38;5;28;43mself\u001b[39;49m\u001b[43m.\u001b[49m\u001b[43m_parent_ident\u001b[49m\u001b[43m[\u001b[49m\u001b[33;43m\"\u001b[39;49m\u001b[33;43mshell\u001b[39;49m\u001b[33;43m\"\u001b[39;49m\u001b[43m]\u001b[49m\u001b[43m,\u001b[49m\n\u001b[32m   1285\u001b[39m \u001b[43m    \u001b[49m\u001b[38;5;28;43mself\u001b[39;49m\u001b[43m.\u001b[49m\u001b[43mget_parent\u001b[49m\u001b[43m(\u001b[49m\u001b[33;43m\"\u001b[39;49m\u001b[33;43mshell\u001b[39;49m\u001b[33;43m\"\u001b[39;49m\u001b[43m)\u001b[49m\u001b[43m,\u001b[49m\n\u001b[32m   1286\u001b[39m \u001b[43m    \u001b[49m\u001b[43mpassword\u001b[49m\u001b[43m=\u001b[49m\u001b[38;5;28;43;01mFalse\u001b[39;49;00m\u001b[43m,\u001b[49m\n\u001b[32m   1287\u001b[39m \u001b[43m\u001b[49m\u001b[43m)\u001b[49m\n",
      "\u001b[36mFile \u001b[39m\u001b[32m~/anaconda3/envs/llm/lib/python3.13/site-packages/ipykernel/kernelbase.py:1325\u001b[39m, in \u001b[36mKernel._input_request\u001b[39m\u001b[34m(self, prompt, ident, parent, password)\u001b[39m\n\u001b[32m   1322\u001b[39m \u001b[38;5;28;01mexcept\u001b[39;00m \u001b[38;5;167;01mKeyboardInterrupt\u001b[39;00m:\n\u001b[32m   1323\u001b[39m     \u001b[38;5;66;03m# re-raise KeyboardInterrupt, to truncate traceback\u001b[39;00m\n\u001b[32m   1324\u001b[39m     msg = \u001b[33m\"\u001b[39m\u001b[33mInterrupted by user\u001b[39m\u001b[33m\"\u001b[39m\n\u001b[32m-> \u001b[39m\u001b[32m1325\u001b[39m     \u001b[38;5;28;01mraise\u001b[39;00m \u001b[38;5;167;01mKeyboardInterrupt\u001b[39;00m(msg) \u001b[38;5;28;01mfrom\u001b[39;00m\u001b[38;5;250m \u001b[39m\u001b[38;5;28;01mNone\u001b[39;00m\n\u001b[32m   1326\u001b[39m \u001b[38;5;28;01mexcept\u001b[39;00m \u001b[38;5;167;01mException\u001b[39;00m:\n\u001b[32m   1327\u001b[39m     \u001b[38;5;28mself\u001b[39m.log.warning(\u001b[33m\"\u001b[39m\u001b[33mInvalid Message:\u001b[39m\u001b[33m\"\u001b[39m, exc_info=\u001b[38;5;28;01mTrue\u001b[39;00m)\n",
      "\u001b[31mKeyboardInterrupt\u001b[39m: Interrupted by user"
     ]
    }
   ],
   "source": [
    "# Run the chatbot\n",
    "while True:\n",
    "    user_input = input(\"User: \")\n",
    "    if user_input.lower() in [\"quit\", \"exit\", \"q\"]:\n",
    "        print(\"Goodbye!\")\n",
    "        break\n",
    "    for event in graph.stream({\"messages\": [(\"user\", user_input)]}):\n",
    "        for value in event.values():\n",
    "            print(\"Assistant:\", value[\"messages\"][-1].content)"
   ]
  },
  {
   "cell_type": "markdown",
   "metadata": {},
   "source": [
    "Tipos de nós personalizados\n",
    "\n",
    "O LangGraph permite que você crie tipos de nós personalizados para implementar uma lógica de agente complexa. Isso proporciona flexibilidade e controle sobre o comportamento do seu aplicativo."
   ]
  },
  {
   "cell_type": "code",
   "execution_count": 31,
   "metadata": {},
   "outputs": [
    {
     "data": {
      "text/plain": [
       "<langgraph.graph.state.StateGraph at 0x77ade0b4d150>"
      ]
     },
     "execution_count": 31,
     "metadata": {},
     "output_type": "execute_result"
    }
   ],
   "source": [
    "from typing import Annotated\n",
    "from langchain_anthropic import ChatAnthropic\n",
    "from langgraph.graph import StateGraph\n",
    "from langgraph.graph.message import add_messages\n",
    "class MyCustomNode:\n",
    "    def __init__(self, llm):\n",
    "        self.llm = llm\n",
    "    def __call__(self, state):\n",
    "        # Implement your custom logic here\n",
    "        # Access the state and perform actions\n",
    "        messages = state[\"messages\"]\n",
    "        response = self.llm.invoke(messages)\n",
    "        return {\"messages\": [response]}\n",
    "graph_builder = StateGraph(State)\n",
    "llm = ChatAnthropic(model=\"gpt-3.5-turbo\")\n",
    "custom_node = MyCustomNode(llm)\n",
    "graph_builder.add_node(\"custom_node\", custom_node)"
   ]
  },
  {
   "cell_type": "markdown",
   "metadata": {},
   "source": [
    "Tipos de borda\n",
    "\n",
    "O LangGraph oferece suporte a diferentes tipos de borda para lidar com vários padrões de comunicação entre os nós. Um tipo útil é a borda condicional, que permite a tomada de decisões com base na saída de um nó.\n",
    "\n",
    "Para criar uma borda condicional, você precisa de três componentes:\n",
    "\n",
    "    O nó upstream: A saída do nó decide a próxima etapa.\n",
    "    Uma função: Essa função avalia a saída do nó upstream e determina o próximo nó a ser executado, retornando uma cadeia de caracteres que representa a decisão.\n",
    "    Um mapeamento: Esse mapeamento vincula os possíveis resultados da função aos nós correspondentes a serem executados.\n",
    "    Aqui está um exemplo em pseudocódigo:\n",
    "\n",
    "graph.add_conditional_edge(\n",
    "    \"model\",\n",
    "    should_continue,\n",
    "    {\n",
    "        \"end\": END,\n",
    "        \"continue\": \"tools\"\n",
    "    }\n",
    ")"
   ]
  },
  {
   "cell_type": "markdown",
   "metadata": {},
   "source": [
    "Gerenciamento do estado\n",
    "\n",
    "O LangGraph oferece técnicas avançadas de gerenciamento de estado, que incluem o uso de bancos de dados externos, como SQLite, PostgreSQL e MongoDB, ou soluções de armazenamento em nuvem, como Amazon S3, Google Cloud Storage e Azure Blob Storage, para armazenar e recuperar o estado do seu agente, permitindo confiabilidade e escalabilidade.\n",
    "\n",
    "Aqui está um exemplo de uso de um banco de dados SQLite para gerenciamento de estado:"
   ]
  },
  {
   "cell_type": "code",
   "execution_count": null,
   "metadata": {},
   "outputs": [],
   "source": [
    "from langgraph.checkpoint.sqlite import SqliteSaver\n",
    "# Connect to the SQLite database\n",
    "memory = SqliteSaver.from_conn_string(\":memory:\")\n",
    "# Compile the graph with the checkpointer\n",
    "graph = graph_builder.compile(checkpointer=memory)"
   ]
  }
 ],
 "metadata": {
  "kernelspec": {
   "display_name": "llm",
   "language": "python",
   "name": "python3"
  },
  "language_info": {
   "codemirror_mode": {
    "name": "ipython",
    "version": 3
   },
   "file_extension": ".py",
   "mimetype": "text/x-python",
   "name": "python",
   "nbconvert_exporter": "python",
   "pygments_lexer": "ipython3",
   "version": "3.10.16"
  }
 },
 "nbformat": 4,
 "nbformat_minor": 2
}
